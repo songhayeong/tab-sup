{
 "cells": [
  {
   "cell_type": "code",
   "execution_count": 1,
   "metadata": {
    "collapsed": true
   },
   "outputs": [],
   "source": [
    "import pandas as pd"
   ]
  },
  {
   "cell_type": "code",
   "execution_count": 3,
   "outputs": [],
   "source": [
    "pd = pd.read_csv(\"start/dataset/aimers_6th_final_train.csv\")"
   ],
   "metadata": {
    "collapsed": false
   }
  },
  {
   "cell_type": "code",
   "execution_count": 4,
   "outputs": [
    {
     "data": {
      "text/plain": "            이식된 배아 수  미세주입(ICSI) 배아 이식 수    배아 이식 후 경과일       임신 성공 확률\ncount  125397.000000       117354.000000  108804.000000  126244.000000\nmean        1.400648            0.743051       3.174277       0.264887\nstd         0.768145            0.910627       1.839835       0.414155\nmin         0.000000            0.000000       0.000000       0.000000\n25%         1.000000            0.000000       2.000000       0.000000\n50%         1.000000            0.000000       3.000000       0.000000\n75%         2.000000            2.000000       5.000000       0.500000\nmax         3.000000            3.000000       7.000000       1.000000",
      "text/html": "<div>\n<style scoped>\n    .dataframe tbody tr th:only-of-type {\n        vertical-align: middle;\n    }\n\n    .dataframe tbody tr th {\n        vertical-align: top;\n    }\n\n    .dataframe thead th {\n        text-align: right;\n    }\n</style>\n<table border=\"1\" class=\"dataframe\">\n  <thead>\n    <tr style=\"text-align: right;\">\n      <th></th>\n      <th>이식된 배아 수</th>\n      <th>미세주입(ICSI) 배아 이식 수</th>\n      <th>배아 이식 후 경과일</th>\n      <th>임신 성공 확률</th>\n    </tr>\n  </thead>\n  <tbody>\n    <tr>\n      <th>count</th>\n      <td>125397.000000</td>\n      <td>117354.000000</td>\n      <td>108804.000000</td>\n      <td>126244.000000</td>\n    </tr>\n    <tr>\n      <th>mean</th>\n      <td>1.400648</td>\n      <td>0.743051</td>\n      <td>3.174277</td>\n      <td>0.264887</td>\n    </tr>\n    <tr>\n      <th>std</th>\n      <td>0.768145</td>\n      <td>0.910627</td>\n      <td>1.839835</td>\n      <td>0.414155</td>\n    </tr>\n    <tr>\n      <th>min</th>\n      <td>0.000000</td>\n      <td>0.000000</td>\n      <td>0.000000</td>\n      <td>0.000000</td>\n    </tr>\n    <tr>\n      <th>25%</th>\n      <td>1.000000</td>\n      <td>0.000000</td>\n      <td>2.000000</td>\n      <td>0.000000</td>\n    </tr>\n    <tr>\n      <th>50%</th>\n      <td>1.000000</td>\n      <td>0.000000</td>\n      <td>3.000000</td>\n      <td>0.000000</td>\n    </tr>\n    <tr>\n      <th>75%</th>\n      <td>2.000000</td>\n      <td>2.000000</td>\n      <td>5.000000</td>\n      <td>0.500000</td>\n    </tr>\n    <tr>\n      <th>max</th>\n      <td>3.000000</td>\n      <td>3.000000</td>\n      <td>7.000000</td>\n      <td>1.000000</td>\n    </tr>\n  </tbody>\n</table>\n</div>"
     },
     "execution_count": 4,
     "metadata": {},
     "output_type": "execute_result"
    }
   ],
   "source": [
    "pd.describe()"
   ],
   "metadata": {
    "collapsed": false
   }
  },
  {
   "cell_type": "code",
   "execution_count": 6,
   "outputs": [
    {
     "name": "stdout",
     "output_type": "stream",
     "text": [
      "126244\n"
     ]
    }
   ],
   "source": [
    "print(len(pd))"
   ],
   "metadata": {
    "collapsed": false
   }
  },
  {
   "cell_type": "code",
   "execution_count": null,
   "outputs": [],
   "source": [],
   "metadata": {
    "collapsed": false
   }
  }
 ],
 "metadata": {
  "kernelspec": {
   "display_name": "Python 3",
   "language": "python",
   "name": "python3"
  },
  "language_info": {
   "codemirror_mode": {
    "name": "ipython",
    "version": 2
   },
   "file_extension": ".py",
   "mimetype": "text/x-python",
   "name": "python",
   "nbconvert_exporter": "python",
   "pygments_lexer": "ipython2",
   "version": "2.7.6"
  }
 },
 "nbformat": 4,
 "nbformat_minor": 0
}
